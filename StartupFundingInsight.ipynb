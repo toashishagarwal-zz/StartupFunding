{
 "cells": [
  {
   "cell_type": "code",
   "execution_count": 1,
   "metadata": {
    "collapsed": false
   },
   "outputs": [],
   "source": [
    "from pyspark import SparkContext, SparkConf\n",
    "\n",
    "# prepare the RDD\n",
    "data_file = \"./startup_funding.csv\"\n",
    "\n",
    "conf = SparkConf().setAppName(\"StartupFunding\")\n",
    "sc = SparkContext(conf=conf)\n",
    "\n",
    "raw_data = sc.textFile(data_file)\n"
   ]
  },
  {
   "cell_type": "code",
   "execution_count": 2,
   "metadata": {
    "collapsed": false
   },
   "outputs": [
    {
     "name": "stdout",
     "output_type": "stream",
     "text": [
      "Total records in Raw data = 2373\n"
     ]
    }
   ],
   "source": [
    "print \"Total records in Raw data = {}\".format(raw_data.count())"
   ]
  },
  {
   "cell_type": "code",
   "execution_count": 3,
   "metadata": {
    "collapsed": false
   },
   "outputs": [],
   "source": [
    "header = raw_data.first()\n",
    "header = sc.parallelize([header])"
   ]
  },
  {
   "cell_type": "code",
   "execution_count": 4,
   "metadata": {
    "collapsed": false
   },
   "outputs": [],
   "source": [
    "clean_data = raw_data.subtract(header)"
   ]
  },
  {
   "cell_type": "code",
   "execution_count": 5,
   "metadata": {
    "collapsed": false
   },
   "outputs": [
    {
     "name": "stdout",
     "output_type": "stream",
     "text": [
      "Total records in Clean data = 2372\n"
     ]
    }
   ],
   "source": [
    "print \"Total records in Clean data = {}\".format(clean_data.count())"
   ]
  },
  {
   "cell_type": "code",
   "execution_count": 6,
   "metadata": {
    "collapsed": false
   },
   "outputs": [
    {
     "data": {
      "text/plain": [
       "PythonRDD[13] at RDD at PythonRDD.scala:48"
      ]
     },
     "execution_count": 6,
     "metadata": {},
     "output_type": "execute_result"
    }
   ],
   "source": [
    "clean_data"
   ]
  },
  {
   "cell_type": "code",
   "execution_count": 7,
   "metadata": {
    "collapsed": true
   },
   "outputs": [],
   "source": [
    "csv = clean_data.map(lambda x: x.split(','))"
   ]
  },
  {
   "cell_type": "code",
   "execution_count": 8,
   "metadata": {
    "collapsed": false
   },
   "outputs": [
    {
     "data": {
      "text/plain": [
       "2372"
      ]
     },
     "execution_count": 8,
     "metadata": {},
     "output_type": "execute_result"
    }
   ],
   "source": [
    "csv.count()"
   ]
  },
  {
   "cell_type": "code",
   "execution_count": 9,
   "metadata": {
    "collapsed": true
   },
   "outputs": [],
   "source": [
    "cities = csv.map(lambda x: x[5]).collect()"
   ]
  },
  {
   "cell_type": "code",
   "execution_count": 10,
   "metadata": {
    "collapsed": false
   },
   "outputs": [],
   "source": [
    "amounts = csv.map(lambda x: x[8]).collect()"
   ]
  },
  {
   "cell_type": "code",
   "execution_count": 31,
   "metadata": {
    "collapsed": false
   },
   "outputs": [
    {
     "data": {
      "text/plain": [
       "[(u'Jaipur', 1000000.0),\n",
       " (u'Noida', 500000.0),\n",
       " (u'Bangalore', 12300000.0),\n",
       " (u'New Delhi', 200000.0),\n",
       " (u'Mumbai', 1000000.0)]"
      ]
     },
     "execution_count": 31,
     "metadata": {},
     "output_type": "execute_result"
    }
   ],
   "source": [
    "amounts_by_cities = csv.map(lambda x: (x[5], float(x[8])))\n",
    "\n",
    "amounts_by_cities.take(5)\n"
   ]
  },
  {
   "cell_type": "code",
   "execution_count": 32,
   "metadata": {
    "collapsed": false
   },
   "outputs": [],
   "source": [
    "total_amounts_by_cities = amounts_by_cities.reduceByKey(lambda x,y : float(x) + float(y))"
   ]
  },
  {
   "cell_type": "code",
   "execution_count": 33,
   "metadata": {
    "collapsed": false
   },
   "outputs": [
    {
     "data": {
      "text/plain": [
       "[(u'USA/India', 16600000.0),\n",
       " (u'Gurgaon', 2069021500.0),\n",
       " (u'Noida', 170638000.0),\n",
       " (u'Lucknow', 1000000.0),\n",
       " (u'India / US', 30000000.0),\n",
       " (u'Pune', 366653000.0),\n",
       " (u'Vadodara', 6040000.0),\n",
       " (u'Kerala', 27000.0),\n",
       " (u'Kolkata', 13865000.0),\n",
       " (u'Hyderabad', 196362000.0),\n",
       " (u'Hubli', 0.0),\n",
       " (u'Mumbai', 2354934500.0),\n",
       " (u'Unknown', 1271863868.0),\n",
       " (u'Missourie', 350000.0),\n",
       " (u'Panaji', 825000.0),\n",
       " (u'Indore', 1672000.0),\n",
       " (u'Surat', 0.0),\n",
       " (u'Goa', 2380000.0),\n",
       " (u'Gwalior', 900000.0),\n",
       " (u'Belgaum', 500000.0),\n",
       " (u'US/India', 3000000.0),\n",
       " (u'Trivandrum', 100000.0),\n",
       " (u'Bhopal', 1900000.0),\n",
       " (u'Siliguri', 0.0),\n",
       " (u'Udupi', 12000000.0),\n",
       " (u'bangalore', 0.0),\n",
       " (u'Karur', 0.0),\n",
       " (u'Coimbatore', 1650000.0),\n",
       " (u'Chennai', 411105000.0),\n",
       " (u'Kanpur', 220000.0),\n",
       " (u'Singapore', 3850000.0),\n",
       " (u'Boston', 3000000.0),\n",
       " (u'Varanasi', 52000.0),\n",
       " (u'Nagpur', 0.0),\n",
       " (u'Goa/Hyderabad', 0.0),\n",
       " (u'Udaipur', 0.0),\n",
       " (u'Agra', 0.0),\n",
       " (u'USA', 0.0),\n",
       " (u'New York/ India', 2950000.0),\n",
       " (u'US', 0.0),\n",
       " (u'London', 0.0),\n",
       " (u'Bangalore', 8425674108.0),\n",
       " (u'Ahmedabad', 98186000.0),\n",
       " (u'Chandigarh', 26100000.0),\n",
       " (u'Jodhpur', 160000.0),\n",
       " (u'New Delhi', 2817247500.0),\n",
       " (u'Delhi', 1000000.0),\n",
       " (u'Kozhikode', 0.0),\n",
       " (u'Jaipur', 35560000.0),\n",
       " (u'Kochi', 0.0)]"
      ]
     },
     "execution_count": 33,
     "metadata": {},
     "output_type": "execute_result"
    }
   ],
   "source": [
    "total_amounts_by_cities.collect()"
   ]
  },
  {
   "cell_type": "code",
   "execution_count": 34,
   "metadata": {
    "collapsed": false
   },
   "outputs": [
    {
     "data": {
      "text/plain": [
       "pyspark.rdd.PipelinedRDD"
      ]
     },
     "execution_count": 34,
     "metadata": {},
     "output_type": "execute_result"
    }
   ],
   "source": [
    "type(total_amounts_by_cities)"
   ]
  },
  {
   "cell_type": "code",
   "execution_count": 35,
   "metadata": {
    "collapsed": false
   },
   "outputs": [
    {
     "data": {
      "text/plain": [
       "[u'USA/India',\n",
       " u'Gurgaon',\n",
       " u'Noida',\n",
       " u'Lucknow',\n",
       " u'India / US',\n",
       " u'Pune',\n",
       " u'Vadodara',\n",
       " u'Kerala',\n",
       " u'Kolkata',\n",
       " u'Hyderabad',\n",
       " u'Hubli',\n",
       " u'Mumbai',\n",
       " u'Unknown',\n",
       " u'Missourie',\n",
       " u'Panaji',\n",
       " u'Indore',\n",
       " u'Surat',\n",
       " u'Goa',\n",
       " u'Gwalior',\n",
       " u'Belgaum',\n",
       " u'US/India',\n",
       " u'Trivandrum',\n",
       " u'Bhopal',\n",
       " u'Siliguri',\n",
       " u'Udupi',\n",
       " u'bangalore',\n",
       " u'Karur',\n",
       " u'Coimbatore',\n",
       " u'Chennai',\n",
       " u'Kanpur',\n",
       " u'Singapore',\n",
       " u'Boston',\n",
       " u'Varanasi',\n",
       " u'Nagpur',\n",
       " u'Goa/Hyderabad',\n",
       " u'Udaipur',\n",
       " u'Agra',\n",
       " u'USA',\n",
       " u'New York/ India',\n",
       " u'US',\n",
       " u'London',\n",
       " u'Bangalore',\n",
       " u'Ahmedabad',\n",
       " u'Chandigarh',\n",
       " u'Jodhpur',\n",
       " u'New Delhi',\n",
       " u'Delhi',\n",
       " u'Kozhikode',\n",
       " u'Jaipur',\n",
       " u'Kochi']"
      ]
     },
     "execution_count": 35,
     "metadata": {},
     "output_type": "execute_result"
    }
   ],
   "source": [
    "x_cities = total_amounts_by_cities.map(lambda x: x[0]).collect()\n",
    "x_cities"
   ]
  },
  {
   "cell_type": "code",
   "execution_count": 36,
   "metadata": {
    "collapsed": false
   },
   "outputs": [
    {
     "data": {
      "text/plain": [
       "[16600000.0,\n",
       " 2069021500.0,\n",
       " 170638000.0,\n",
       " 1000000.0,\n",
       " 30000000.0,\n",
       " 366653000.0,\n",
       " 6040000.0,\n",
       " 27000.0,\n",
       " 13865000.0,\n",
       " 196362000.0,\n",
       " 0.0,\n",
       " 2354934500.0,\n",
       " 1271863868.0,\n",
       " 350000.0,\n",
       " 825000.0,\n",
       " 1672000.0,\n",
       " 0.0,\n",
       " 2380000.0,\n",
       " 900000.0,\n",
       " 500000.0,\n",
       " 3000000.0,\n",
       " 100000.0,\n",
       " 1900000.0,\n",
       " 0.0,\n",
       " 12000000.0,\n",
       " 0.0,\n",
       " 0.0,\n",
       " 1650000.0,\n",
       " 411105000.0,\n",
       " 220000.0,\n",
       " 3850000.0,\n",
       " 3000000.0,\n",
       " 52000.0,\n",
       " 0.0,\n",
       " 0.0,\n",
       " 0.0,\n",
       " 0.0,\n",
       " 0.0,\n",
       " 2950000.0,\n",
       " 0.0,\n",
       " 0.0,\n",
       " 8425674108.0,\n",
       " 98186000.0,\n",
       " 26100000.0,\n",
       " 160000.0,\n",
       " 2817247500.0,\n",
       " 1000000.0,\n",
       " 0.0,\n",
       " 35560000.0,\n",
       " 0.0]"
      ]
     },
     "execution_count": 36,
     "metadata": {},
     "output_type": "execute_result"
    }
   ],
   "source": [
    "y_amounts = total_amounts_by_cities.map(lambda x: x[1]).collect()\n",
    "y_amounts"
   ]
  },
  {
   "cell_type": "code",
   "execution_count": 38,
   "metadata": {
    "collapsed": false
   },
   "outputs": [],
   "source": [
    "# Plot the city-wise funding received\n",
    "import matplotlib.pyplot as plt\n",
    "\n",
    "index = range(len(x_cities))\n",
    "\n",
    "plt.bar(index, y_amounts)\n",
    "plt.xticks(index, x_cities, rotation=30, fontsize=6)\n",
    "plt.xlabel('Cities', fontsize=6)\n",
    "plt.ylabel('Funding Amount')\n",
    "plt.title('Funding Amounts by Cities')\n",
    " \n",
    "plt.show()"
   ]
  },
  {
   "cell_type": "code",
   "execution_count": null,
   "metadata": {
    "collapsed": true
   },
   "outputs": [],
   "source": []
  }
 ],
 "metadata": {
  "kernelspec": {
   "display_name": "Python 2",
   "language": "python",
   "name": "python2"
  },
  "language_info": {
   "codemirror_mode": {
    "name": "ipython",
    "version": 2
   },
   "file_extension": ".py",
   "mimetype": "text/x-python",
   "name": "python",
   "nbconvert_exporter": "python",
   "pygments_lexer": "ipython2",
   "version": "2.7.11"
  }
 },
 "nbformat": 4,
 "nbformat_minor": 0
}
